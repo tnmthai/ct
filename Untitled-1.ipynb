{
 "cells": [
  {
   "cell_type": "code",
   "execution_count": 4,
   "id": "179a766b",
   "metadata": {},
   "outputs": [
    {
     "name": "stdout",
     "output_type": "stream",
     "text": [
      "Your Name (SHA-256): c7a6e5bd00ddbeab380c74cb0b32832fb38eaa4404594d5b8cd39833019de847\n",
      "Your Birth (SHA-256): b759457973c39717d33f7f2daac4fb5332ed8cfaacbcecbc43181b6b9c49c144\n",
      "Friend Name (SHA-256): 809f9fccc57d0632557e1a0e66f1080d49627b96aec529b31afa4663733ffb89\n",
      "Friend Birth (SHA-256): a6ef5b5ed79c335a66f4d9ad2d6fa859a475d0f546c254393e5da2408ff2e81a\n"
     ]
    }
   ],
   "source": [
    "import hashlib\n",
    "\n",
    "def sha256_encrypt(text):\n",
    "    # Chuyển chuỗi sang dạng bytes\n",
    "    encoded_text = text.encode('utf-8')\n",
    "    # Tạo đối tượng băm SHA-256\n",
    "    hash_object = hashlib.sha256(encoded_text)\n",
    "    # Lấy chuỗi mã hoá dạng hex\n",
    "    hex_digest = hash_object.hexdigest()\n",
    "    return hex_digest\n",
    "\n",
    "# Ví dụ sử dụng\n",
    "your_name = \"Thái\"\n",
    "your_birth = \"06/06/1986\"\n",
    "friend_name = \"Duy\"\n",
    "friend_birth = \"07/02/1995\"\n",
    "\n",
    "print(\"Your Name (SHA-256):\", sha256_encrypt(your_name))\n",
    "print(\"Your Birth (SHA-256):\", sha256_encrypt(your_birth))\n",
    "print(\"Friend Name (SHA-256):\", sha256_encrypt(friend_name))\n",
    "print(\"Friend Birth (SHA-256):\", sha256_encrypt(friend_birth))"
   ]
  }
 ],
 "metadata": {
  "kernelspec": {
   "display_name": "base",
   "language": "python",
   "name": "python3"
  },
  "language_info": {
   "codemirror_mode": {
    "name": "ipython",
    "version": 3
   },
   "file_extension": ".py",
   "mimetype": "text/x-python",
   "name": "python",
   "nbconvert_exporter": "python",
   "pygments_lexer": "ipython3",
   "version": "3.12.7"
  }
 },
 "nbformat": 4,
 "nbformat_minor": 5
}
